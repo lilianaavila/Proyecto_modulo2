{
 "cells": [
  {
   "cell_type": "markdown",
   "metadata": {},
   "source": [
    "<img style=\"float: right; margin: 0px 0px 15px 15px;\" src=\"https://blogs.iteso.mx/uniteso/files/2015/05/Logo_Horizontal-1024x472.jpg\" width=\"300px\" height=\"100px\" />\n",
    "### PROYECTO MÓDULO 2###\n",
    "### DEFORMACIÓN Y MÓDULO ELÁSTICO DE VIGAS###\n"
   ]
  },
  {
   "cell_type": "markdown",
   "metadata": {},
   "source": [
    ">### INTEGRANTES ###"
   ]
  },
  {
   "cell_type": "markdown",
   "metadata": {},
   "source": [
    "* Ana Fernanda Virgen Sánchez.\n",
    "* Liliana Avila Maravilla.\n",
    "* Gustavo Herrera Santana."
   ]
  },
  {
   "cell_type": "markdown",
   "metadata": {
    "collapsed": true
   },
   "source": [
    "> ### INTRODUCCIÓN."
   ]
  },
  {
   "cell_type": "markdown",
   "metadata": {},
   "source": [
    "<img style=\"float: right; margin: 0px 0px 15px 15px;\" src=\"https://eudotec.files.wordpress.com/2014/07/grandes_estructuras.jpg\" width=\"300px\" height=\"100px\" />\n",
    "\n",
    "A partir de este código pretendemos encontrar la deformación ultima de una viga que está soportada por apoyos simples en los extremos, esto quiere decir que permite el libre movimiento de sus extremos.\n",
    "\n",
    "Para este propósito la carga será aplicada de forma puntual en uno de los extremos de la viga.\n",
    "\n",
    "Se pretende que la viga llegue a el punto máximo de proporcionalidad, a partir de este punto llega al limite de fluencia donde la viga pierde su ductilidad y queda deformada.\n"
   ]
  },
  {
   "cell_type": "markdown",
   "metadata": {},
   "source": [
    "### OBJETIVOS."
   ]
  },
  {
   "attachments": {},
   "cell_type": "markdown",
   "metadata": {},
   "source": [
    "* Encontrar la deformación ultima de una viga de acero simplemente apoyada.\n",
    "* Obtener la curva de deformación de la viga de acero.\n",
    "* Encontrar la deformación que tendrá la viga en base a cambios de temperatura.\n"
   ]
  },
  {
   "cell_type": "markdown",
   "metadata": {},
   "source": [
    "### OBJETIVO GENERALE."
   ]
  },
  {
   "cell_type": "markdown",
   "metadata": {},
   "source": [
    "* Encontrar la máxima deformación de una viga de acero.\n"
   ]
  },
  {
   "cell_type": "markdown",
   "metadata": {},
   "source": [
    "### OBJETIVO ESPECÍFICO."
   ]
  },
  {
   "cell_type": "markdown",
   "metadata": {},
   "source": [
    "* Obtener la curva de deformación de una viga de acero simplemente apoyada variando la longitud de la misma utilizando la misma carga en cada variación. \n"
   ]
  },
  {
   "cell_type": "markdown",
   "metadata": {},
   "source": [
    "> ### MODELO"
   ]
  },
  {
   "cell_type": "markdown",
   "metadata": {},
   "source": [
    "La fórmula general que nos presenta el sistema para poder obtener los datos bucados son:\n",
    "\n",
    "$\\frac{d^2}{dx^2} = \\frac{M}{EI} = \\frac{F}{EI} (L - x)$\n",
    "\n",
    "La fórmula que nos permite determinar el ángulo de flexión de la viga es:\n",
    "\n",
    "$\\theta = \\frac{dy}{dx} = \\frac{F}{EI}(Lx-\\frac{x^2}{2})$\n",
    "\n",
    "La fórmula que nos permite determinar la flexión de la viga se obtiene integrando la fórmula anterior y está dada como:\n",
    "\n",
    "$y=\\frac{F}{EI}(\\frac{L}{2}x^2 - \\frac{x^3}{6})$\n",
    "\n",
    "\n",
    "<img style=\"float: center; margin: 0px 0px 15px 15px;\" src=\"http://engineeringfeed.com/wp-content/uploads/2017/04/continues-cantilever-beam-detailing-4.jpg\" width=\"400px\" height=\"250px\" />"
   ]
  },
  {
   "cell_type": "markdown",
   "metadata": {},
   "source": [
    "Es importante denotar que en las ecuaciones anteriormente presentadas y que permiten llevar a cabo este modelo, las variables significan lo siguiente:\n",
    "\n",
    "$F$ = Fuerza aplicada al sistema (viga)\n",
    "\n",
    "$E$ = Módulo elástico del material \n",
    "\n",
    "$L$ = Longitud de la viga (en *ft*)\n",
    "\n",
    "$I$ = Inercia del sistema\n",
    "\n",
    "Para nuestra simulación, usaremos una viga simple de 40 *ft* de longitud total con un módulo de elasticidad de $29000(12^2)$, una inercia de $\\frac{758}{12^4}$, sobre la que se aplicará una fuerza equivalente a $-20$ unidades."
   ]
  },
  {
   "cell_type": "markdown",
   "metadata": {},
   "source": [
    "### ÁNGULO DE FLEXIÓN  ###"
   ]
  },
  {
   "cell_type": "markdown",
   "metadata": {},
   "source": [
    "Se denomina flexión al tipo de deformación que presenta un elemento estructural alargado en una dirección perpendicular a su eje longitudinal. \n",
    "\n",
    "Se usará una barra empotrada de un de acero, de longitud L, de peralte A y de espesor B. Se fijará uno de sus extremos y se aplicará una fuerza en su extremo libre. se medira el alargamiento o acortamiento del extremo libre y(L) o flecha en función de la fuerza aplicada F. \n",
    "\n"
   ]
  },
  {
   "cell_type": "code",
   "execution_count": 9,
   "metadata": {},
   "outputs": [
    {
     "name": "stdout",
     "output_type": "stream",
     "text": [
      "-0.07860977163133473\n"
     ]
    }
   ],
   "source": [
    "import numpy as np\n",
    "import matplotlib.pyplot as plt\n",
    "from scipy.integrate import odeint\n",
    "%matplotlib inline\n",
    "\n",
    "L= 40 #longitud de la viga\n",
    "F= -20 #fuerza aplicada\n",
    "E=29000*(12**2) #Módulo elástico del material\n",
    "I=758/(12**4) #inercia\n",
    "def Pendiente(y, x):\n",
    "    return (F/(E*I))*((L*x)-((x*x)/2))\n",
    "print(Pendiente(y, x))\n",
    "\n",
    "x0 = 1\n",
    "tt = np.linspace(0, L+1)\n",
    "xx = odeint(Pendiente, x0, tt)\n"
   ]
  },
  {
   "cell_type": "markdown",
   "metadata": {},
   "source": [
    "### DEFLEXIÓN VIGA ###"
   ]
  },
  {
   "cell_type": "markdown",
   "metadata": {},
   "source": [
    "Se entiende por deflexión aquella deformación que sufre un elemento por el efecto de las flexiones internas."
   ]
  },
  {
   "cell_type": "code",
   "execution_count": 31,
   "metadata": {},
   "outputs": [
    {
     "name": "stdout",
     "output_type": "stream",
     "text": [
      "-3.843144390865253\n"
     ]
    }
   ],
   "source": [
    "L= 40 #longitud de la viga en pies.\n",
    "F= -40 #fuerza aplicada en libras.\n",
    "E=29000*(12**2) #Módulo elàstico del material en KSI.\n",
    "I=758/(12**4) #inercia.\n",
    "x=20\n",
    "y=0\n",
    "def Deflexión(y, x):\n",
    "    return (F/(E*I))*((L*(x*x))-((x*x*x)/6))\n",
    "print(Deflexión(y, x))\n",
    "\n",
    "x0 = 1\n",
    "tt = np.linspace(0, L+1)\n",
    "xx2 = odeint(Deflexión, x0, tt)\n"
   ]
  },
  {
   "cell_type": "code",
   "execution_count": 18,
   "metadata": {},
   "outputs": [
    {
     "data": {
      "image/png": "[encoded data removed]",
      "text/plain": [
       "<matplotlib.figure.Figure at 0x7f2104643eb8>"
      ]
     },
     "metadata": {},
     "output_type": "display_data"
    }
   ],
   "source": [
    "plt.figure(figsize=(8,6))\n",
    "plt.plot(tt, xx, 'r', label = 'Deflexion de una viga')\n",
    "plt.plot(tt, xx2, 'b', label = 'Angulo de Flexión')\n",
    "plt.grid()\n",
    "plt.legend(loc = 'best')\n",
    "plt.xlabel('Distancia $(ft)$')\n",
    "plt.ylabel('Deflexión')\n",
    "plt.title('Deflexión de una viga')\n",
    "plt.show()"
   ]
  },
  {
   "cell_type": "markdown",
   "metadata": {},
   "source": [
    "Con los resultados obtenidos observamos que el angulo de flexión de la viga es directamente proporcional a su longitud asi como a la fuerza aplicada en el extremo contrario. También se observar que la viga empezara el trabajo de compresión y tensión a partir de entre los 10 y 15 ft aproximadamente en donde se presenta el mayor cambio de angulo de su flexion. "
   ]
  },
  {
   "cell_type": "markdown",
   "metadata": {},
   "source": [
    "### Variando la longitud del elemento:"
   ]
  },
  {
   "cell_type": "code",
   "execution_count": 28,
   "metadata": {},
   "outputs": [
    {
     "name": "stdout",
     "output_type": "stream",
     "text": [
      "-0.010481302884177963\n"
     ]
    }
   ],
   "source": [
    "import numpy as np\n",
    "import matplotlib.pyplot as plt\n",
    "from scipy.integrate import odeint\n",
    "%matplotlib inline\n",
    "\n",
    "L= 12 #longitud de la viga en pies.\n",
    "F= -40 #fuerza aplicada en libras.\n",
    "E=29000*(12**2) #Módulo elástico del material en KSI.\n",
    "I=758/(12**4) #inercia\n",
    "def Pendiente(y, x):\n",
    "    return (F/(E*I))*((L*x)-((x*x)/2))\n",
    "print(Pendiente(y, x))\n",
    "\n",
    "x0 = 1\n",
    "tt = np.linspace(0, L+1)\n",
    "xx = odeint(Pendiente, x0, tt)"
   ]
  },
  {
   "cell_type": "code",
   "execution_count": 29,
   "metadata": {},
   "outputs": [
    {
     "name": "stdout",
     "output_type": "stream",
     "text": [
      "-0.9083795832954236\n"
     ]
    }
   ],
   "source": [
    "L= 12 #longitud de la viga\n",
    "F= -40 #fuerza aplicada\n",
    "E=29000*(12**2) #Módulo elàstico del material en KSI.\n",
    "I=758/(12**4) #inercia\n",
    "x=20\n",
    "y=0\n",
    "def Deflexión(y, x):\n",
    "    return (F/(E*I))*((L*(x*x))-((x*x*x)/6))\n",
    "print(Deflexión(y, x))\n",
    "\n",
    "x0 = 1\n",
    "tt = np.linspace(0, L+1)\n",
    "xx2 = odeint(Deflexión, x0, tt)"
   ]
  },
  {
   "cell_type": "code",
   "execution_count": 30,
   "metadata": {},
   "outputs": [
    {
     "data": {
      "image/png": "[encoded data removed]",
      "text/plain": [
       "<matplotlib.figure.Figure at 0x7f20c9391d68>"
      ]
     },
     "metadata": {},
     "output_type": "display_data"
    }
   ],
   "source": [
    "plt.figure(figsize=(8,6))\n",
    "plt.plot(tt, xx, 'r', label = 'Deflexion de una viga')\n",
    "plt.plot(tt, xx2, 'b', label = 'Angulo de Flexión')\n",
    "plt.grid()\n",
    "plt.legend(loc = 'best')\n",
    "plt.xlabel('Distancia $(ft)$')\n",
    "plt.ylabel('Deflexión')\n",
    "plt.title('Deflexión de una viga')\n",
    "plt.show()"
   ]
  },
  {
   "cell_type": "markdown",
   "metadata": {},
   "source": [
    "Observamos que su ángulo de flexión y el ángulo de delexion son menores  aplicando la misma fuerza en el extremo opuesto en donde se encuentre soportado. En este caso la longitud de nuestro elemento será de 12ft.\n",
    "\n"
   ]
  },
  {
   "cell_type": "code",
   "execution_count": null,
   "metadata": {},
   "outputs": [],
   "source": []
  },
  {
   "cell_type": "markdown",
   "metadata": {},
   "source": [
    "### CONCLUSIONES ### "
   ]
  },
  {
   "attachments": {},
   "cell_type": "markdown",
   "metadata": {},
   "source": [
    "* El modulo de elasticidad del material como la fuerza aplicada en nuestro sistema son los puntos mas importante dentro de este, ya que debido a ellos es como se presenta tanto el Angulo de flexión como la deflexión de la viga y nuestro elemento pasa de trabajar de solamente a tensión a compresión.\n",
    "\n",
    "\n",
    "* Una viga simple sometida a esta clase de esfuerzos se comienza a flexionar de manera cóncava y a medida que la fuerza se aplica en el punto más alejado respecto al punto de apoyo de la viga, ésta sufre una deformación más extrema. Por lo que, en función de las características físicas propias de la viga en cuestión, puede llegar el momento en que no soporte la tensión y sufra de un desgarramiento. \n"
   ]
  },
  {
   "cell_type": "markdown",
   "metadata": {
    "collapsed": true
   },
   "source": [
    "### FUENTES### "
   ]
  },
  {
   "cell_type": "markdown",
   "metadata": {},
   "source": [
    "* Clase9_IntroED Archivo\n",
    "* Clase12_OsciladorArmonico Archivo\n",
    "* Clase13_OsciladorAmortiguado Archivo\n"
   ]
  },
  {
   "cell_type": "code",
   "execution_count": null,
   "metadata": {},
   "outputs": [],
   "source": []
  }
 ],
 "metadata": {
  "kernelspec": {
   "display_name": "Python 3",
   "language": "python",
   "name": "python3"
  },
  "language_info": {
   "codemirror_mode": {
    "name": "ipython",
    "version": 3
   },
   "file_extension": ".py",
   "mimetype": "text/x-python",
   "name": "python",
   "nbconvert_exporter": "python",
   "pygments_lexer": "ipython3",
   "version": "3.6.5"
  }
 },
 "nbformat": 4,
 "nbformat_minor": 2
}
